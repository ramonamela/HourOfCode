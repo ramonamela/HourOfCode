{
 "cells": [
  {
   "cell_type": "markdown",
   "metadata": {},
   "source": [
    "# ACM Hour of code - Introducció a Python"
   ]
  },
  {
   "cell_type": "code",
   "execution_count": null,
   "metadata": {
    "collapsed": true
   },
   "outputs": [],
   "source": [
    "print 'Hello, world!'"
   ]
  },
  {
   "cell_type": "code",
   "execution_count": null,
   "metadata": {
    "collapsed": true
   },
   "outputs": [],
   "source": [
    "name = raw_input('What is your name?\\n')\n",
    "print 'Hi, %s.' % name"
   ]
  },
  {
   "cell_type": "code",
   "execution_count": null,
   "metadata": {
    "collapsed": true
   },
   "outputs": [],
   "source": [
    "friends = ['john', 'pat', 'gary', 'michael']\n",
    "for i, name in enumerate(friends):\n",
    "    print \"iteration {iteration} is {name}\".format(iteration=i, name=name)"
   ]
  },
  {
   "cell_type": "code",
   "execution_count": null,
   "metadata": {
    "collapsed": true
   },
   "outputs": [],
   "source": [
    "parents, babies = (1, 1)\n",
    "while babies < 100:\n",
    "    print 'This generation has {0} babies'.format(babies)\n",
    "    parents, babies = (babies, parents + babies)"
   ]
  },
  {
   "cell_type": "code",
   "execution_count": null,
   "metadata": {
    "collapsed": true
   },
   "outputs": [],
   "source": [
    "def greet(name):\n",
    "    print 'Hello', name\n",
    "greet('Jack')\n",
    "greet('Jill')\n",
    "greet('Bob')"
   ]
  },
  {
   "cell_type": "code",
   "execution_count": null,
   "metadata": {
    "collapsed": true
   },
   "outputs": [],
   "source": [
    "import re\n",
    "for test_string in ['555-1212', 'ILL-EGAL']:\n",
    "    if re.match(r'^\\d{3}-\\d{4}$', test_string):\n",
    "        print test_string, 'is a valid US local phone number'\n",
    "    else:\n",
    "        print test_string, 'rejected'"
   ]
  },
  {
   "cell_type": "code",
   "execution_count": null,
   "metadata": {
    "collapsed": true
   },
   "outputs": [],
   "source": [
    "prices = {'apple': 0.40, 'banana': 0.50}\n",
    "my_purchase = {\n",
    "    'apple': 1,\n",
    "    'banana': 6}\n",
    "grocery_bill = sum(prices[fruit] * my_purchase[fruit]\n",
    "                   for fruit in my_purchase)\n",
    "print 'I owe the grocer $%.2f' % grocery_bill"
   ]
  },
  {
   "cell_type": "code",
   "execution_count": null,
   "metadata": {
    "collapsed": true
   },
   "outputs": [],
   "source": [
    "# This program adds up integers in the command line\n",
    "import sys\n",
    "try:\n",
    "    total = sum(int(arg) for arg in sys.argv[1:])\n",
    "    print 'sum =', total\n",
    "except ValueError:\n",
    "    print 'Please supply integer arguments"
   ]
  },
  {
   "cell_type": "code",
   "execution_count": null,
   "metadata": {
    "collapsed": true
   },
   "outputs": [],
   "source": [
    "# indent your Python code to put into an email\n",
    "import glob\n",
    "# glob supports Unix style pathname extensions\n",
    "python_files = glob.glob('*.py')\n",
    "for file_name in sorted(python_files):\n",
    "    print '    ------' + file_name\n",
    "\n",
    "    with open(file_name) as f:\n",
    "        for line in f:\n",
    "            print '    ' + line.rstrip()\n",
    "\n",
    "    print"
   ]
  },
  {
   "cell_type": "code",
   "execution_count": null,
   "metadata": {
    "collapsed": true
   },
   "outputs": [],
   "source": [
    "from time import localtime\n",
    "\n",
    "activities = {8: 'Sleeping',\n",
    "              9: 'Commuting',\n",
    "              17: 'Working',\n",
    "              18: 'Commuting',\n",
    "              20: 'Eating',\n",
    "              22: 'Resting' }\n",
    "\n",
    "time_now = localtime()\n",
    "hour = time_now.tm_hour\n",
    "\n",
    "for activity_time in sorted(activities.keys()):\n",
    "    if hour < activity_time:\n",
    "        print activities[activity_time]\n",
    "        break\n",
    "else:\n",
    "    print 'Unknown, AFK or sleeping!'"
   ]
  },
  {
   "cell_type": "code",
   "execution_count": null,
   "metadata": {
    "collapsed": true
   },
   "outputs": [],
   "source": [
    "REFRAIN = '''\n",
    "%d bottles of beer on the wall,\n",
    "%d bottles of beer,\n",
    "take one down, pass it around,\n",
    "%d bottles of beer on the wall!\n",
    "'''\n",
    "bottles_of_beer = 99\n",
    "while bottles_of_beer > 1:\n",
    "    print REFRAIN % (bottles_of_beer, bottles_of_beer,\n",
    "        bottles_of_beer - 1)\n",
    "    bottles_of_beer -= 1"
   ]
  },
  {
   "cell_type": "code",
   "execution_count": null,
   "metadata": {
    "collapsed": true
   },
   "outputs": [],
   "source": [
    "class BankAccount(object):\n",
    "    def __init__(self, initial_balance=0):\n",
    "        self.balance = initial_balance\n",
    "    def deposit(self, amount):\n",
    "        self.balance += amount\n",
    "    def withdraw(self, amount):\n",
    "        self.balance -= amount\n",
    "    def overdrawn(self):\n",
    "        return self.balance < 0\n",
    "my_account = BankAccount(15)\n",
    "my_account.withdraw(5)\n",
    "print my_account.balance"
   ]
  },
  {
   "cell_type": "code",
   "execution_count": null,
   "metadata": {
    "collapsed": true
   },
   "outputs": [],
   "source": [
    "import unittest\n",
    "def median(pool):\n",
    "    copy = sorted(pool)\n",
    "    size = len(copy)\n",
    "    if size % 2 == 1:\n",
    "        return copy[(size - 1) / 2]\n",
    "    else:\n",
    "        return (copy[size/2 - 1] + copy[size/2]) / 2\n",
    "class TestMedian(unittest.TestCase):\n",
    "    def testMedian(self):\n",
    "        self.failUnlessEqual(median([2, 9, 9, 7, 9, 2, 4, 5, 8]), 7)\n",
    "if __name__ == '__main__':\n",
    "    unittest.main()"
   ]
  },
  {
   "cell_type": "code",
   "execution_count": null,
   "metadata": {
    "collapsed": true
   },
   "outputs": [],
   "source": [
    "from itertools import groupby\n",
    "lines = '''\n",
    "This is the\n",
    "first paragraph.\n",
    "\n",
    "This is the second.\n",
    "'''.splitlines()\n",
    "# Use itertools.groupby and bool to return groups of\n",
    "# consecutive lines that either have content or don't.\n",
    "for has_chars, frags in groupby(lines, bool):\n",
    "    if has_chars:\n",
    "        print ' '.join(frags)\n",
    "# PRINTS:\n",
    "# This is the first paragraph.\n",
    "# This is the second."
   ]
  },
  {
   "cell_type": "code",
   "execution_count": null,
   "metadata": {
    "collapsed": true
   },
   "outputs": [],
   "source": [
    "import csv\n",
    "\n",
    "# write stocks data as comma-separated values\n",
    "writer = csv.writer(open('stocks.csv', 'wb', buffering=0))\n",
    "writer.writerows([\n",
    "    ('GOOG', 'Google, Inc.', 505.24, 0.47, 0.09),\n",
    "    ('YHOO', 'Yahoo! Inc.', 27.38, 0.33, 1.22),\n",
    "    ('CNET', 'CNET Networks, Inc.', 8.62, -0.13, -1.49)\n",
    "])\n",
    "\n",
    "# read stocks data, print status messages\n",
    "stocks = csv.reader(open('stocks.csv', 'rb'))\n",
    "status_labels = {-1: 'down', 0: 'unchanged', 1: 'up'}\n",
    "for ticker, name, price, change, pct in stocks:\n",
    "    status = status_labels[cmp(float(change), 0.0)]\n",
    "    print '%s is %s (%s%%)' % (name, status, pct)"
   ]
  },
  {
   "cell_type": "code",
   "execution_count": null,
   "metadata": {
    "collapsed": true
   },
   "outputs": [],
   "source": [
    "BOARD_SIZE = 8\n",
    "\n",
    "def under_attack(col, queens):\n",
    "    left = right = col\n",
    "\n",
    "    for r, c in reversed(queens):\n",
    "        left, right = left - 1, right + 1\n",
    "\n",
    "        if c in (left, col, right):\n",
    "            return True\n",
    "    return False\n",
    "\n",
    "def solve(n):\n",
    "    if n == 0:\n",
    "        return [[]]\n",
    "\n",
    "    smaller_solutions = solve(n - 1)\n",
    "\n",
    "    return [solution+[(n,i+1)]\n",
    "        for i in xrange(BOARD_SIZE)\n",
    "            for solution in smaller_solutions\n",
    "                if not under_attack(i+1, solution)]\n",
    "for answer in solve(BOARD_SIZE):\n",
    "    print answer"
   ]
  },
  {
   "cell_type": "code",
   "execution_count": 1,
   "metadata": {},
   "outputs": [
    {
     "name": "stdout",
     "output_type": "stream",
     "text": [
      "2\n",
      "3\n",
      "5\n",
      "7\n",
      "11\n",
      "13\n",
      "17\n",
      "19\n",
      "23\n",
      "29\n",
      "31\n",
      "37\n",
      "41\n",
      "43\n",
      "47\n",
      "53\n",
      "59\n",
      "61\n",
      "67\n",
      "71\n",
      "73\n",
      "79\n",
      "83\n",
      "89\n",
      "97\n",
      "101\n",
      "103\n",
      "107\n",
      "109\n",
      "113\n",
      "127\n",
      "131\n",
      "137\n",
      "139\n",
      "149\n",
      "151\n",
      "157\n",
      "163\n",
      "167\n",
      "173\n",
      "179\n",
      "181\n",
      "191\n",
      "193\n",
      "197\n",
      "199\n",
      "211\n",
      "223\n",
      "227\n",
      "229\n",
      "233\n",
      "239\n",
      "241\n",
      "251\n",
      "257\n",
      "263\n",
      "269\n",
      "271\n",
      "277\n",
      "281\n",
      "283\n",
      "293\n",
      "307\n",
      "311\n",
      "313\n",
      "317\n",
      "331\n",
      "337\n",
      "347\n",
      "349\n",
      "353\n",
      "359\n",
      "367\n",
      "373\n",
      "379\n",
      "383\n",
      "389\n",
      "397\n",
      "401\n",
      "409\n",
      "419\n",
      "421\n",
      "431\n",
      "433\n",
      "439\n",
      "443\n",
      "449\n",
      "457\n",
      "461\n",
      "463\n",
      "467\n",
      "479\n",
      "487\n",
      "491\n",
      "499\n",
      "503\n",
      "509\n",
      "521\n",
      "523\n",
      "541\n",
      "547\n",
      "557\n",
      "563\n",
      "569\n",
      "571\n",
      "577\n",
      "587\n",
      "593\n",
      "599\n",
      "601\n",
      "607\n",
      "613\n",
      "617\n",
      "619\n",
      "631\n",
      "641\n",
      "643\n",
      "647\n",
      "653\n",
      "659\n",
      "661\n",
      "673\n",
      "677\n",
      "683\n",
      "691\n",
      "701\n",
      "709\n",
      "719\n",
      "727\n",
      "733\n",
      "739\n",
      "743\n",
      "751\n",
      "757\n",
      "761\n",
      "769\n",
      "773\n",
      "787\n",
      "797\n",
      "809\n",
      "811\n",
      "821\n",
      "823\n",
      "827\n",
      "829\n",
      "839\n",
      "853\n",
      "857\n",
      "859\n",
      "863\n",
      "877\n",
      "881\n",
      "883\n",
      "887\n",
      "907\n",
      "911\n",
      "919\n",
      "929\n",
      "937\n",
      "941\n",
      "947\n",
      "953\n",
      "967\n",
      "971\n",
      "977\n",
      "983\n",
      "991\n",
      "997\n"
     ]
    }
   ],
   "source": [
    "import itertools\n",
    "\n",
    "def iter_primes():\n",
    "     # an iterator of all numbers between 2 and +infinity\n",
    "     numbers = itertools.count(2)\n",
    "\n",
    "     # generate primes forever\n",
    "     while True:\n",
    "         # get the first number from the iterator (always a prime)\n",
    "         prime = numbers.next()\n",
    "         yield prime\n",
    "\n",
    "         # this code iteratively builds up a chain of\n",
    "         # filters...slightly tricky, but ponder it a bit\n",
    "         numbers = itertools.ifilter(prime.__rmod__, numbers)\n",
    "\n",
    "for p in iter_primes():\n",
    "    if p > 1000:\n",
    "        break\n",
    "    print p"
   ]
  },
  {
   "cell_type": "code",
   "execution_count": null,
   "metadata": {
    "collapsed": true
   },
   "outputs": [],
   "source": [
    "dinner_recipe = '''<html><body><table>\n",
    "<tr><th>amt</th><th>unit</th><th>item</th></tr>\n",
    "<tr><td>24</td><td>slices</td><td>baguette</td></tr>\n",
    "<tr><td>2+</td><td>tbsp</td><td>olive oil</td></tr>\n",
    "<tr><td>1</td><td>cup</td><td>tomatoes</td></tr>\n",
    "<tr><td>1</td><td>jar</td><td>pesto</td></tr>\n",
    "</table></body></html>'''\n",
    "\n",
    "# In Python 2.5 or from http://effbot.org/zone/element-index.htm\n",
    "import xml.etree.ElementTree as etree\n",
    "tree = etree.fromstring(dinner_recipe)\n",
    "\n",
    "# For invalid HTML use http://effbot.org/zone/element-soup.htm\n",
    "# import ElementSoup, StringIO\n",
    "# tree = ElementSoup.parse(StringIO.StringIO(dinner_recipe))\n",
    "\n",
    "pantry = set(['olive oil', 'pesto'])\n",
    "for ingredient in tree.getiterator('tr'):\n",
    "    amt, unit, item = ingredient\n",
    "    if item.tag == \"td\" and item.text not in pantry:\n",
    "        print \"%s: %s %s\" % (item.text, amt.text, unit.text)"
   ]
  },
  {
   "cell_type": "code",
   "execution_count": null,
   "metadata": {
    "collapsed": true
   },
   "outputs": [],
   "source": []
  },
  {
   "cell_type": "code",
   "execution_count": null,
   "metadata": {
    "collapsed": true
   },
   "outputs": [],
   "source": []
  },
  {
   "cell_type": "code",
   "execution_count": null,
   "metadata": {
    "collapsed": true
   },
   "outputs": [],
   "source": []
  },
  {
   "cell_type": "code",
   "execution_count": null,
   "metadata": {
    "collapsed": true
   },
   "outputs": [],
   "source": []
  },
  {
   "cell_type": "markdown",
   "metadata": {},
   "source": [
    "https://wiki.python.org/moin/SimplePrograms"
   ]
  }
 ],
 "metadata": {
  "kernelspec": {
   "display_name": "Python 2",
   "language": "python",
   "name": "python2"
  },
  "language_info": {
   "codemirror_mode": {
    "name": "ipython",
    "version": 2
   },
   "file_extension": ".py",
   "mimetype": "text/x-python",
   "name": "python",
   "nbconvert_exporter": "python",
   "pygments_lexer": "ipython2",
   "version": "2.7.13"
  }
 },
 "nbformat": 4,
 "nbformat_minor": 2
}
